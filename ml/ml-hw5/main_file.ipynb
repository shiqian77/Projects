{
 "cells": [
  {
   "cell_type": "code",
   "execution_count": 2,
   "metadata": {},
   "outputs": [],
   "source": [
    "from trainning import *"
   ]
  },
  {
   "cell_type": "markdown",
   "metadata": {},
   "source": [
    "**Glove Embedding**"
   ]
  },
  {
   "cell_type": "code",
   "execution_count": 3,
   "metadata": {},
   "outputs": [
    {
     "name": "stderr",
     "output_type": "stream",
     "text": [
      "100%|█████████████████████████████████████████████████████████████████████████████████| 189/189 [00:04<00:00, 45.06it/s]\n",
      "100%|████████████████████████████████████████████████████████████████████████████████| 750/750 [00:01<00:00, 655.96it/s]\n"
     ]
    },
    {
     "name": "stdout",
     "output_type": "stream",
     "text": [
      "Epoch: 0, Train Loss: 5.7274, Train Accuracy: 0.1020, Dev Loss: 5.9894, Dev Accuracy: 0.0708, Duration: 5.34 seconds\n"
     ]
    },
    {
     "name": "stderr",
     "output_type": "stream",
     "text": [
      "100%|█████████████████████████████████████████████████████████████████████████████████| 189/189 [00:04<00:00, 42.07it/s]\n",
      "100%|████████████████████████████████████████████████████████████████████████████████| 750/750 [00:01<00:00, 508.86it/s]\n"
     ]
    },
    {
     "name": "stdout",
     "output_type": "stream",
     "text": [
      "Epoch: 1, Train Loss: 5.0327, Train Accuracy: 0.1391, Dev Loss: 5.7277, Dev Accuracy: 0.0891, Duration: 11.34 seconds\n"
     ]
    },
    {
     "name": "stderr",
     "output_type": "stream",
     "text": [
      "100%|█████████████████████████████████████████████████████████████████████████████████| 189/189 [00:04<00:00, 45.00it/s]\n",
      "100%|████████████████████████████████████████████████████████████████████████████████| 750/750 [00:01<00:00, 508.77it/s]\n"
     ]
    },
    {
     "name": "stdout",
     "output_type": "stream",
     "text": [
      "Epoch: 2, Train Loss: 4.9386, Train Accuracy: 0.1476, Dev Loss: 5.4404, Dev Accuracy: 0.1072, Duration: 17.03 seconds\n"
     ]
    },
    {
     "name": "stderr",
     "output_type": "stream",
     "text": [
      "100%|█████████████████████████████████████████████████████████████████████████████████| 189/189 [00:04<00:00, 39.97it/s]\n",
      "100%|████████████████████████████████████████████████████████████████████████████████| 750/750 [00:01<00:00, 476.35it/s]\n"
     ]
    },
    {
     "name": "stdout",
     "output_type": "stream",
     "text": [
      "Epoch: 3, Train Loss: 4.8975, Train Accuracy: 0.1486, Dev Loss: 5.5028, Dev Accuracy: 0.1044, Duration: 23.36 seconds\n"
     ]
    },
    {
     "name": "stderr",
     "output_type": "stream",
     "text": [
      "100%|█████████████████████████████████████████████████████████████████████████████████| 189/189 [00:04<00:00, 41.40it/s]\n",
      "100%|████████████████████████████████████████████████████████████████████████████████| 750/750 [00:01<00:00, 520.80it/s]\n"
     ]
    },
    {
     "name": "stdout",
     "output_type": "stream",
     "text": [
      "Epoch: 4, Train Loss: 4.8716, Train Accuracy: 0.1475, Dev Loss: 5.5359, Dev Accuracy: 0.1022, Duration: 29.38 seconds\n"
     ]
    },
    {
     "name": "stderr",
     "output_type": "stream",
     "text": [
      "100%|█████████████████████████████████████████████████████████████████████████████████| 189/189 [00:04<00:00, 43.38it/s]\n",
      "100%|████████████████████████████████████████████████████████████████████████████████| 750/750 [00:01<00:00, 503.85it/s]\n"
     ]
    },
    {
     "name": "stdout",
     "output_type": "stream",
     "text": [
      "Epoch: 5, Train Loss: 4.8554, Train Accuracy: 0.1490, Dev Loss: 5.5263, Dev Accuracy: 0.1046, Duration: 35.25 seconds\n"
     ]
    },
    {
     "name": "stderr",
     "output_type": "stream",
     "text": [
      "100%|█████████████████████████████████████████████████████████████████████████████████| 189/189 [00:04<00:00, 45.21it/s]\n",
      "100%|████████████████████████████████████████████████████████████████████████████████| 750/750 [00:01<00:00, 515.10it/s]\n"
     ]
    },
    {
     "name": "stdout",
     "output_type": "stream",
     "text": [
      "Epoch: 6, Train Loss: 4.8420, Train Accuracy: 0.1492, Dev Loss: 5.4914, Dev Accuracy: 0.1101, Duration: 40.91 seconds\n"
     ]
    },
    {
     "name": "stderr",
     "output_type": "stream",
     "text": [
      "100%|█████████████████████████████████████████████████████████████████████████████████| 189/189 [00:04<00:00, 43.78it/s]\n",
      "100%|████████████████████████████████████████████████████████████████████████████████| 750/750 [00:01<00:00, 609.67it/s]\n"
     ]
    },
    {
     "name": "stdout",
     "output_type": "stream",
     "text": [
      "Epoch: 7, Train Loss: 4.8334, Train Accuracy: 0.1504, Dev Loss: 5.6868, Dev Accuracy: 0.0924, Duration: 46.47 seconds\n"
     ]
    },
    {
     "name": "stderr",
     "output_type": "stream",
     "text": [
      "100%|█████████████████████████████████████████████████████████████████████████████████| 189/189 [00:04<00:00, 43.95it/s]\n",
      "100%|████████████████████████████████████████████████████████████████████████████████| 750/750 [00:01<00:00, 575.71it/s]\n"
     ]
    },
    {
     "name": "stdout",
     "output_type": "stream",
     "text": [
      "Epoch: 8, Train Loss: 4.8252, Train Accuracy: 0.1517, Dev Loss: 5.6093, Dev Accuracy: 0.0988, Duration: 52.10 seconds\n"
     ]
    },
    {
     "name": "stderr",
     "output_type": "stream",
     "text": [
      "100%|█████████████████████████████████████████████████████████████████████████████████| 189/189 [00:04<00:00, 43.90it/s]\n",
      "100%|████████████████████████████████████████████████████████████████████████████████| 750/750 [00:01<00:00, 541.16it/s]\n"
     ]
    },
    {
     "name": "stdout",
     "output_type": "stream",
     "text": [
      "Epoch: 9, Train Loss: 4.8186, Train Accuracy: 0.1507, Dev Loss: 5.5496, Dev Accuracy: 0.1009, Duration: 57.81 seconds\n"
     ]
    },
    {
     "name": "stderr",
     "output_type": "stream",
     "text": [
      "100%|█████████████████████████████████████████████████████████████████████████████████| 189/189 [00:04<00:00, 41.77it/s]\n",
      "100%|████████████████████████████████████████████████████████████████████████████████| 750/750 [00:01<00:00, 546.25it/s]\n"
     ]
    },
    {
     "name": "stdout",
     "output_type": "stream",
     "text": [
      "Epoch: 10, Train Loss: 4.8124, Train Accuracy: 0.1527, Dev Loss: 5.6239, Dev Accuracy: 0.0942, Duration: 63.73 seconds\n"
     ]
    },
    {
     "name": "stderr",
     "output_type": "stream",
     "text": [
      "100%|█████████████████████████████████████████████████████████████████████████████████| 189/189 [00:04<00:00, 44.29it/s]\n",
      "100%|████████████████████████████████████████████████████████████████████████████████| 750/750 [00:01<00:00, 525.38it/s]"
     ]
    },
    {
     "name": "stdout",
     "output_type": "stream",
     "text": [
      "Epoch: 11, Train Loss: 4.8080, Train Accuracy: 0.1508, Dev Loss: 5.5400, Dev Accuracy: 0.1009, Duration: 69.44 seconds\n"
     ]
    },
    {
     "name": "stderr",
     "output_type": "stream",
     "text": [
      "\n"
     ]
    }
   ],
   "source": [
    "if True:\n",
    "    train_iter, dev_iter, test_iter, TEXT = get_iterators()\n",
    "    torch.save(TEXT.vocab.vectors, 'vectors.pth')\n",
    "    PAD_IDX = TEXT.vocab.stoi[PAD]\n",
    "    model = LSTMModel(HID_SIZE, TEXT)\n",
    "    optimizer = torch.optim.Adadelta(model.parameters(), lr=LR)\n",
    "    loss_func = torch.nn.CrossEntropyLoss(ignore_index=PAD_IDX)\n",
    "    min_dev_loss = float('inf')\n",
    "    train_losses = []\n",
    "    dev_losses = []\n",
    "\n",
    "start = time.time()\n",
    "epoch = 0\n",
    "while epoch < EPOCHS:\n",
    "    train_loss, train_acc = train(train_iter, model, optimizer, loss_func, pad_idx=PAD_IDX)\n",
    "    dev_loss, dev_acc = eval(dev_iter, model, loss_func, pad_idx=PAD_IDX)\n",
    "    \n",
    "    end = time.time()\n",
    "    train_losses.append(train_loss)\n",
    "    dev_losses.append(dev_loss)\n",
    "\n",
    "    if dev_loss < min_dev_loss:\n",
    "        min_dev_loss = dev_loss\n",
    "        min_dev_acc = dev_acc\n",
    "        torch.save(model.state_dict(), 'model.pth')\n",
    "\n",
    "    print(\"Epoch: {}, Train Loss: {:.4f}, Train Accuracy: {:.4f}, Dev Loss: {:.4f}, Dev Accuracy: {:.4f}, Duration: {:.2f} seconds\"\n",
    "          .format(epoch, train_loss, train_acc, dev_loss, dev_acc, end - start))\n",
    "\n",
    "    epoch += 1\n"
   ]
  },
  {
   "cell_type": "code",
   "execution_count": 5,
   "metadata": {},
   "outputs": [
    {
     "data": {
      "text/plain": [
       "Text(0, 0.5, 'loss')"
      ]
     },
     "execution_count": 5,
     "metadata": {},
     "output_type": "execute_result"
    },
    {
     "data": {
      "image/png": "[encoded data removed]",
      "text/plain": [
       "<Figure size 640x480 with 1 Axes>"
      ]
     },
     "metadata": {},
     "output_type": "display_data"
    }
   ],
   "source": [
    "import matplotlib.pyplot as plt\n",
    "\n",
    "def plot_losses(train_losses, dev_losses):\n",
    "    plt.plot(train_losses, label=\"train\", color='r')\n",
    "    plt.plot(dev_losses, label=\"valid\", color='g')\n",
    "    plt.legend()\n",
    "    plt.xlabel(\"epoch\")\n",
    "    plt.ylabel(\"loss\")\n",
    "\n",
    "plot_losses(train_losses, dev_losses)\n"
   ]
  },
  {
   "cell_type": "code",
   "execution_count": 7,
   "metadata": {},
   "outputs": [
    {
     "name": "stderr",
     "output_type": "stream",
     "text": [
      "100%|████████████████████████████████████████████████████████████████████████████████| 750/750 [00:01<00:00, 565.27it/s]"
     ]
    },
    {
     "name": "stdout",
     "output_type": "stream",
     "text": [
      "Top 20 words w/ highest prediction accuracy:\n",
      "Sue\n",
      "</s>\n",
      ".\n",
      "was\n",
      "to\n",
      "the\n",
      "He\n",
      "found\n",
      "game\n",
      "he\n",
      "wanted\n",
      "online\n",
      "and\n",
      "ordered\n",
      "it\n",
      "Bob\n",
      "decided\n",
      "list\n",
      "his\n",
      "car\n",
      "\n",
      "Bottom 20 words w/ lowest prediction accuracy:\n",
      "glasses\n",
      "haircut\n",
      "closet\n",
      "light\n",
      "power\n",
      "driveway\n",
      "wallet\n",
      "pocket\n",
      "talked\n",
      "calm\n",
      "customer\n",
      "drink\n",
      "raise\n",
      "little\n",
      "classmates\n",
      "grateful\n",
      "weight\n",
      "laundry\n",
      "evening\n",
      "share\n"
     ]
    },
    {
     "name": "stderr",
     "output_type": "stream",
     "text": [
      "\n"
     ]
    }
   ],
   "source": [
    "def print_sorted_words_by_accuracy(sorted_words, vocab, top_n=20):\n",
    "    print(\"Top {} words w/ highest prediction accuracy:\".format(top_n))\n",
    "    for word, acc in sorted_words[:top_n]:\n",
    "        print(f\"{vocab.itos[word]}\")\n",
    "\n",
    "    print(\"\\nBottom {} words w/ lowest prediction accuracy:\".format(top_n))\n",
    "    for word, acc in sorted_words[-top_n:]:\n",
    "        print(f\"{vocab.itos[word]}\")\n",
    "\n",
    "sorted_words = sort_words_by_accuracy(dev_iter, model)\n",
    "print_sorted_words_by_accuracy(sorted_words, TEXT.vocab)\n"
   ]
  },
  {
   "cell_type": "code",
   "execution_count": 8,
   "metadata": {},
   "outputs": [
    {
     "name": "stderr",
     "output_type": "stream",
     "text": [
      "100%|████████████████████████████████████████████████████████████████████████████████| 750/750 [00:01<00:00, 562.72it/s]\n"
     ]
    }
   ],
   "source": [
    "predict_sentences(dev_iter, model, TEXT.vocab, \"prediction_embedding1.txt\")"
   ]
  },
  {
   "cell_type": "markdown",
   "metadata": {},
   "source": [
    "**Random embedding**"
   ]
  },
  {
   "cell_type": "code",
   "execution_count": 9,
   "metadata": {},
   "outputs": [
    {
     "name": "stderr",
     "output_type": "stream",
     "text": [
      "100%|█████████████████████████████████████████████████████████████████████████████████| 189/189 [00:04<00:00, 45.94it/s]\n",
      "100%|████████████████████████████████████████████████████████████████████████████████| 750/750 [00:01<00:00, 636.81it/s]\n"
     ]
    },
    {
     "name": "stdout",
     "output_type": "stream",
     "text": [
      "Epoch: 0, Train Loss: 5.8674, Train Accuracy: 0.1019, Dev Loss: 6.0830, Dev Accuracy: 0.0529, Duration: 5.31 seconds\n"
     ]
    },
    {
     "name": "stderr",
     "output_type": "stream",
     "text": [
      "100%|█████████████████████████████████████████████████████████████████████████████████| 189/189 [00:04<00:00, 44.91it/s]\n",
      "100%|████████████████████████████████████████████████████████████████████████████████| 750/750 [00:01<00:00, 574.13it/s]\n"
     ]
    },
    {
     "name": "stdout",
     "output_type": "stream",
     "text": [
      "Epoch: 1, Train Loss: 5.0408, Train Accuracy: 0.1402, Dev Loss: 5.7225, Dev Accuracy: 0.0889, Duration: 10.86 seconds\n"
     ]
    },
    {
     "name": "stderr",
     "output_type": "stream",
     "text": [
      "100%|█████████████████████████████████████████████████████████████████████████████████| 189/189 [00:04<00:00, 45.17it/s]\n",
      "100%|████████████████████████████████████████████████████████████████████████████████| 750/750 [00:01<00:00, 525.47it/s]\n"
     ]
    },
    {
     "name": "stdout",
     "output_type": "stream",
     "text": [
      "Epoch: 2, Train Loss: 4.9460, Train Accuracy: 0.1470, Dev Loss: 5.3925, Dev Accuracy: 0.1188, Duration: 16.49 seconds\n"
     ]
    },
    {
     "name": "stderr",
     "output_type": "stream",
     "text": [
      "100%|█████████████████████████████████████████████████████████████████████████████████| 189/189 [00:04<00:00, 45.92it/s]\n",
      "100%|████████████████████████████████████████████████████████████████████████████████| 750/750 [00:01<00:00, 483.12it/s]\n"
     ]
    },
    {
     "name": "stdout",
     "output_type": "stream",
     "text": [
      "Epoch: 3, Train Loss: 4.9023, Train Accuracy: 0.1474, Dev Loss: 5.3161, Dev Accuracy: 0.1212, Duration: 22.18 seconds\n"
     ]
    },
    {
     "name": "stderr",
     "output_type": "stream",
     "text": [
      "100%|█████████████████████████████████████████████████████████████████████████████████| 189/189 [00:04<00:00, 47.12it/s]\n",
      "100%|████████████████████████████████████████████████████████████████████████████████| 750/750 [00:01<00:00, 552.64it/s]\n"
     ]
    },
    {
     "name": "stdout",
     "output_type": "stream",
     "text": [
      "Epoch: 4, Train Loss: 4.8768, Train Accuracy: 0.1480, Dev Loss: 5.4572, Dev Accuracy: 0.1038, Duration: 27.57 seconds\n"
     ]
    },
    {
     "name": "stderr",
     "output_type": "stream",
     "text": [
      "100%|█████████████████████████████████████████████████████████████████████████████████| 189/189 [00:04<00:00, 41.71it/s]\n",
      "100%|████████████████████████████████████████████████████████████████████████████████| 750/750 [00:01<00:00, 485.23it/s]\n"
     ]
    },
    {
     "name": "stdout",
     "output_type": "stream",
     "text": [
      "Epoch: 5, Train Loss: 4.8596, Train Accuracy: 0.1480, Dev Loss: 5.3688, Dev Accuracy: 0.1126, Duration: 33.67 seconds\n"
     ]
    },
    {
     "name": "stderr",
     "output_type": "stream",
     "text": [
      "100%|█████████████████████████████████████████████████████████████████████████████████| 189/189 [00:04<00:00, 40.96it/s]\n",
      "100%|████████████████████████████████████████████████████████████████████████████████| 750/750 [00:01<00:00, 487.43it/s]\n"
     ]
    },
    {
     "name": "stdout",
     "output_type": "stream",
     "text": [
      "Epoch: 6, Train Loss: 4.8470, Train Accuracy: 0.1492, Dev Loss: 5.5231, Dev Accuracy: 0.0959, Duration: 39.84 seconds\n"
     ]
    },
    {
     "name": "stderr",
     "output_type": "stream",
     "text": [
      "100%|█████████████████████████████████████████████████████████████████████████████████| 189/189 [00:04<00:00, 44.84it/s]\n",
      "100%|████████████████████████████████████████████████████████████████████████████████| 750/750 [00:01<00:00, 521.16it/s]\n"
     ]
    },
    {
     "name": "stdout",
     "output_type": "stream",
     "text": [
      "Epoch: 7, Train Loss: 4.8364, Train Accuracy: 0.1497, Dev Loss: 5.5191, Dev Accuracy: 0.1001, Duration: 45.51 seconds\n"
     ]
    },
    {
     "name": "stderr",
     "output_type": "stream",
     "text": [
      "100%|█████████████████████████████████████████████████████████████████████████████████| 189/189 [00:04<00:00, 43.10it/s]\n",
      "100%|████████████████████████████████████████████████████████████████████████████████| 750/750 [00:01<00:00, 522.24it/s]\n"
     ]
    },
    {
     "name": "stdout",
     "output_type": "stream",
     "text": [
      "Epoch: 8, Train Loss: 4.8278, Train Accuracy: 0.1494, Dev Loss: 5.6307, Dev Accuracy: 0.0941, Duration: 51.36 seconds\n"
     ]
    },
    {
     "name": "stderr",
     "output_type": "stream",
     "text": [
      "100%|█████████████████████████████████████████████████████████████████████████████████| 189/189 [00:04<00:00, 42.33it/s]\n",
      "100%|████████████████████████████████████████████████████████████████████████████████| 750/750 [00:01<00:00, 483.51it/s]\n"
     ]
    },
    {
     "name": "stdout",
     "output_type": "stream",
     "text": [
      "Epoch: 9, Train Loss: 4.8218, Train Accuracy: 0.1490, Dev Loss: 5.4456, Dev Accuracy: 0.1088, Duration: 57.39 seconds\n"
     ]
    },
    {
     "name": "stderr",
     "output_type": "stream",
     "text": [
      "100%|█████████████████████████████████████████████████████████████████████████████████| 189/189 [00:04<00:00, 44.36it/s]\n",
      "100%|████████████████████████████████████████████████████████████████████████████████| 750/750 [00:01<00:00, 571.37it/s]\n"
     ]
    },
    {
     "name": "stdout",
     "output_type": "stream",
     "text": [
      "Epoch: 10, Train Loss: 4.8153, Train Accuracy: 0.1515, Dev Loss: 5.5488, Dev Accuracy: 0.1031, Duration: 62.99 seconds\n"
     ]
    },
    {
     "name": "stderr",
     "output_type": "stream",
     "text": [
      "100%|█████████████████████████████████████████████████████████████████████████████████| 189/189 [00:04<00:00, 43.74it/s]\n",
      "100%|████████████████████████████████████████████████████████████████████████████████| 750/750 [00:01<00:00, 535.21it/s]"
     ]
    },
    {
     "name": "stdout",
     "output_type": "stream",
     "text": [
      "Epoch: 11, Train Loss: 4.8102, Train Accuracy: 0.1513, Dev Loss: 5.5353, Dev Accuracy: 0.0994, Duration: 68.73 seconds\n"
     ]
    },
    {
     "name": "stderr",
     "output_type": "stream",
     "text": [
      "\n"
     ]
    }
   ],
   "source": [
    "if True:\n",
    "    train_iter, dev_iter, test_iter, TEXT = get_iterators(precond=False)\n",
    "    torch.save(TEXT.vocab.vectors, 'vectors.pth')\n",
    "    PAD_IDX = TEXT.vocab.stoi[PAD]\n",
    "    model = LSTMModel(HID_SIZE, TEXT)\n",
    "    optimizer = torch.optim.Adadelta(model.parameters(), lr=LR)\n",
    "    loss_func = torch.nn.CrossEntropyLoss(ignore_index=PAD_IDX)\n",
    "    min_dev_loss = float('inf')\n",
    "    train_losses = []\n",
    "    dev_losses = []\n",
    "\n",
    "start = time.time()\n",
    "epoch = 0\n",
    "while epoch < EPOCHS:\n",
    "    train_loss, train_acc = train(train_iter, model, optimizer, loss_func, pad_idx=PAD_IDX)\n",
    "    dev_loss, dev_acc = eval(dev_iter, model, loss_func, pad_idx=PAD_IDX)\n",
    "    \n",
    "    end = time.time()\n",
    "    train_losses.append(train_loss)\n",
    "    dev_losses.append(dev_loss)\n",
    "\n",
    "    if dev_loss < min_dev_loss:\n",
    "        min_dev_loss = dev_loss\n",
    "        min_dev_acc = dev_acc\n",
    "        torch.save(model.state_dict(), 'model.pth')\n",
    "\n",
    "    print(\"Epoch: {}, Train Loss: {:.4f}, Train Accuracy: {:.4f}, Dev Loss: {:.4f}, Dev Accuracy: {:.4f}, Duration: {:.2f} seconds\"\n",
    "          .format(epoch, train_loss, train_acc, dev_loss, dev_acc, end - start))\n",
    "\n",
    "    epoch += 1"
   ]
  },
  {
   "cell_type": "code",
   "execution_count": 10,
   "metadata": {},
   "outputs": [
    {
     "data": {
      "text/plain": [
       "Text(0, 0.5, 'loss')"
      ]
     },
     "execution_count": 10,
     "metadata": {},
     "output_type": "execute_result"
    },
    {
     "data": {
      "image/png": "[encoded data removed]",
      "text/plain": [
       "<Figure size 640x480 with 1 Axes>"
      ]
     },
     "metadata": {},
     "output_type": "display_data"
    }
   ],
   "source": [
    "import matplotlib.pyplot as plt\n",
    "\n",
    "def plot_losses(train_losses, dev_losses):\n",
    "    plt.plot(train_losses, label=\"train\", color='r')\n",
    "    plt.plot(dev_losses, label=\"valid\", color='g')\n",
    "    plt.legend()\n",
    "    plt.xlabel(\"epoch\")\n",
    "    plt.ylabel(\"loss\")\n",
    "\n",
    "plot_losses(train_losses, dev_losses)\n"
   ]
  },
  {
   "cell_type": "code",
   "execution_count": 13,
   "metadata": {},
   "outputs": [
    {
     "name": "stderr",
     "output_type": "stream",
     "text": [
      "100%|████████████████████████████████████████████████████████████████████████████████| 750/750 [00:01<00:00, 545.03it/s]"
     ]
    },
    {
     "name": "stdout",
     "output_type": "stream",
     "text": [
      "Top 20 words w/ the highest prediction accuracy:\n",
      "Bob\n",
      "to\n",
      "</s>\n",
      "was\n",
      ".\n",
      "He\n",
      "found\n",
      "the\n",
      "game\n",
      "he\n",
      "wanted\n",
      "online\n",
      "and\n",
      "ordered\n",
      "it\n",
      "decided\n",
      "list\n",
      "his\n",
      "car\n",
      "rest\n",
      "\n",
      "Bottom 20 words w/ the lowest prediction accuracy:\n",
      "glasses\n",
      "haircut\n",
      "closet\n",
      "light\n",
      "power\n",
      "driveway\n",
      "wallet\n",
      "pocket\n",
      "talked\n",
      "calm\n",
      "customer\n",
      "drink\n",
      "raise\n",
      "little\n",
      "classmates\n",
      "grateful\n",
      "weight\n",
      "laundry\n",
      "evening\n",
      "share\n"
     ]
    },
    {
     "name": "stderr",
     "output_type": "stream",
     "text": [
      "\n"
     ]
    }
   ],
   "source": [
    "def print_sorted_words_by_accuracy(sorted_words, vocab, top_n=20):\n",
    "    print(\"Top {} words w/ the highest prediction accuracy:\".format(top_n))\n",
    "    index = 0\n",
    "    while index < top_n:\n",
    "        word, acc = sorted_words[index]\n",
    "        print(f\"{vocab.itos[word]}\")\n",
    "        index += 1\n",
    "\n",
    "    print(\"\\nBottom {} words w/ the lowest prediction accuracy:\".format(top_n))\n",
    "    index = -top_n\n",
    "    while index < 0:\n",
    "        word, acc = sorted_words[index]\n",
    "        print(f\"{vocab.itos[word]}\")\n",
    "        index += 1\n",
    "\n",
    "sorted_words = sort_words_by_accuracy(dev_iter, model, pad_idx=PAD_IDX)\n",
    "print_sorted_words_by_accuracy(sorted_words, TEXT.vocab)"
   ]
  },
  {
   "cell_type": "code",
   "execution_count": 12,
   "metadata": {},
   "outputs": [
    {
     "name": "stderr",
     "output_type": "stream",
     "text": [
      "100%|████████████████████████████████████████████████████████████████████████████████| 750/750 [00:01<00:00, 574.68it/s]\n"
     ]
    }
   ],
   "source": [
    "predict_sentences(dev_iter, model, TEXT.vocab, \"prediction_embedding2.txt\")"
   ]
  }
 ],
 "metadata": {
  "kernelspec": {
   "display_name": "Python 3 (ipykernel)",
   "language": "python",
   "name": "python3"
  },
  "language_info": {
   "codemirror_mode": {
    "name": "ipython",
    "version": 3
   },
   "file_extension": ".py",
   "mimetype": "text/x-python",
   "name": "python",
   "nbconvert_exporter": "python",
   "pygments_lexer": "ipython3",
   "version": "3.11.4"
  }
 },
 "nbformat": 4,
 "nbformat_minor": 2
}
