{
 "cells": [
  {
   "cell_type": "markdown",
   "id": "8a22f4dc",
   "metadata": {},
   "source": [
    "# Homework 7 - Monte Carlo and Fast Exponential Transform"
   ]
  },
  {
   "cell_type": "markdown",
   "id": "67ccbec0",
   "metadata": {},
   "source": [
    "## Problem 0 (45 points) - Metroplis-Hastings algorithm\n",
    "\n",
    "Suppose we have 10 particles with positions $x_i$  resting in potential well $V(x)= x^4-x^2-0.1x$:"
   ]
  },
  {
   "cell_type": "code",
   "execution_count": 1,
   "id": "7ec40401",
   "metadata": {},
   "outputs": [
    {
     "name": "stdout",
     "output_type": "stream",
     "text": [
      "/Users/shiqianxu/miniconda3/envs/pycourse/bin/python\n"
     ]
    },
    {
     "data": {
      "text/plain": [
       "Text(0, 0.5, 'V(x)')"
      ]
     },
     "execution_count": 1,
     "metadata": {},
     "output_type": "execute_result"
    },
    {
     "data": {
      "image/png": "[encoded data removed]",
      "text/plain": [
       "<Figure size 640x480 with 1 Axes>"
      ]
     },
     "metadata": {},
     "output_type": "display_data"
    }
   ],
   "source": [
    "import sys\n",
    "print(sys.executable)\n",
    "\n",
    "\n",
    "import numpy as np\n",
    "import matplotlib.pyplot as plt\n",
    "\n",
    "V = lambda x: x**4 - x**2 - 0.1*x # confining potential\n",
    "#p = lambda x: np.exp(-V(x))\n",
    "xx = np.linspace(-1, 1, 100)\n",
    "plt.plot(xx, V(xx), linewidth=3)\n",
    "plt.xlabel('x')\n",
    "plt.ylabel('V(x)')"
   ]
  },
  {
   "cell_type": "markdown",
   "id": "33e88547",
   "metadata": {},
   "source": [
    "If the particles have charges $q_i$, then the total energy of the system is\n",
    "$$\n",
    "H(\\boldsymbol{x}) = \\sum_{\\text{pairs} (i,j)} \\frac{q_iq_j}{|x_i-x_j|} + \\sum_i V(x_i).\n",
    "$$\n",
    "According to satistical physics, if the particles are in thermal equillibrium at temperature $T$, then probability distribution of particles will be\n",
    "$$\n",
    "p(\\boldsymbol{x}) = Z^{-1} e^{-H(\\boldsymbol{x})/T},\n",
    "$$\n",
    "where $Z$ is a normalizing constant.\n",
    "\n",
    "\n",
    "We will use the Metroplis-Hastings algorithm to find the expected number of particles in the right well ($x>0$).\n",
    "\n",
    "The following function will generate our initial condition."
   ]
  },
  {
   "cell_type": "code",
   "execution_count": 2,
   "id": "5f80d0b2",
   "metadata": {},
   "outputs": [],
   "source": [
    "def gen_pts(npart=10):\n",
    "    ' Generate n charged particles with random positions and charges '\n",
    "    xs = 2*np.random.rand(npart) - 1# uniformly distributed intial condition\n",
    "    qs = np.random.rand(npart)\n",
    "    return xs, qs"
   ]
  },
  {
   "cell_type": "markdown",
   "id": "986be2b5",
   "metadata": {},
   "source": [
    "### Part A (5 points)\n",
    "In the Metroplis-Hastings algorithm, we propose a new sample based on the previous sample:\n",
    "$$\n",
    "\\boldsymbol{y}_{k+1} = F_i(\\boldsymbol{x}_{k})\n",
    "$$\n",
    "For this problem, we shall need three kinds of steps one for moving our particles. In the first kind of step, which we call `walk_step`, will move the particles slightly:\n",
    "$$\n",
    "y_{i,k+1} = x_{i,k} + \\delta W_{i,k},\n",
    "$$\n",
    "where $W_{i,k}$ is a standard normal random variable.\n",
    "In the second kind of step (`swap_step`), we will randomly permute the particles:\n",
    "$$\n",
    "y_{i,k+1} = x_{P(i),k},\n",
    "$$\n",
    "where $P$ is a random parmutation.\n",
    "The final kind of step (`flip_step`) will move one random particle ($j_k$) to the other well.\n",
    "$$ \n",
    "y_{i,k+1} = \\begin{cases} -x_{i,k} & i == j_{k}\\\\ x_{i,k} &\\text{o.w.}\\end{cases}\n",
    "$$\n",
    "\n",
    "The overall rule for generating the $y_{i,k+1}$ will be to do a `swap_step` with probability $a$, a `flip_step` with probability $b$, or `walk_step` if we do neither of the other steps.\n",
    "\n",
    "Once we have generated the proposed step $\\boldsymbol{y}_{k+1}$, the Metroplis-Hastings algorithm says that we accept it (i.e. set $\\boldsymbol{x}_{k+1}=\\boldsymbol{y}_{k+1}$) with probability $\\min(p(\\boldsymbol{y}_{k+1})/p(\\boldsymbol{x}_{k}),1)$. If the step is rejectect, we set $\\boldsymbol{x}_{k+1}=\\boldsymbol{x}_{k}$.\n",
    "\n",
    "Fill in the functions below to allow us to generate the next sample in the Metrpolis-Hastings alogirthm."
   ]
  },
  {
   "cell_type": "code",
   "execution_count": 3,
   "id": "a92b996c",
   "metadata": {},
   "outputs": [],
   "source": [
    "import numpy as np\n",
    "\n",
    "def walk_step(xs, delta=0.1):\n",
    "    return xs + np.random.randn(len(xs)) * float(delta)\n",
    "\n",
    "def swap_step(xs):\n",
    "    x_new = xs.copy()\n",
    "    n = len(xs)\n",
    "    i, j = np.random.choice(n, 2, replace=False)\n",
    "    x_new[i], x_new[j] = float(x_new[j]), float(x_new[i])\n",
    "    return x_new\n",
    "\n",
    "def flip_step(xs):\n",
    "    n = len(xs)\n",
    "    i = np.random.choice(n)\n",
    "    x_new = xs.copy()\n",
    "    x_new[i] = -1.0 * x_new[i]  # Assuming the \"other well\" is the negative of the current position\n",
    "    return x_new\n",
    "\n",
    "def mc_step(xs, p, a, b):\n",
    "    n = len(xs)\n",
    "    u = np.random.rand()\n",
    "    \n",
    "    if u < a:\n",
    "        xs_p = walk_step(xs)\n",
    "    elif u < a + b:\n",
    "        xs_p = flip_step(xs)\n",
    "    else:\n",
    "        xs_p = swap_step(xs)\n",
    "    \n",
    "    res = []\n",
    "    for i in range(len(xs)):\n",
    "        calc = float(np.exp(-(float(xs_p[i])**4 - xs_p[i]**2 - 0.1*xs_p[i])) / np.exp(-(float(xs[i])**4 - xs[i]**2 - 0.1*xs[i])))\n",
    "        acceptance_prob = min(1, calc)\n",
    "        if np.random.rand() < acceptance_prob:\n",
    "            res.append(xs_p[i]) # Accept the new step\n",
    "        else:\n",
    "            res.append(xs[i]) # Reject the new step and keep the old positions\n",
    "    return res"
   ]
  },
  {
   "cell_type": "markdown",
   "id": "66cacf57",
   "metadata": {},
   "source": [
    "### Part B (15 points) - Note the weight of this question\n",
    "A Monte Carlo scheme will only converge quickly if the generated samples rapidly explore the state space (i.e. the potential particle positions).\n",
    "\n",
    "Technically `walk_step` is capable of reordering the particles and moving particles to the other well and therefore exploring the state space.\n",
    "Why will introducing `swap_step` and `flip_step` allow our scheme to converge faster? "
   ]
  },
  {
   "cell_type": "markdown",
   "id": "b6856310",
   "metadata": {},
   "source": []
  },
  {
   "cell_type": "markdown",
   "id": "91321936",
   "metadata": {},
   "source": [
    "# Part C (10 points)\n",
    "Complete the function `mcmc_sim`, which generates the samples $\\boldsymbol{x}_{1},\\;\\boldsymbol{x}_{2},\\;\\ldots$. You will need to initialize the system with `gen_part` and then run `nburn` steps to allow the system to converge to it's equillibrium distribution. After that initialization period, generate `nsamp` new samples and save them. The function should then return those saved samples.\n",
    "\n",
    "Once the function is completed, use it with `nsamp = 10**4` and `nburn = 10**2` to estimate the number of particles in the right well."
   ]
  },
  {
   "cell_type": "code",
   "execution_count": 4,
   "id": "e7ad0990",
   "metadata": {},
   "outputs": [
    {
     "name": "stdout",
     "output_type": "stream",
     "text": [
      "Estimated number of particles in the right well: 5.6383\n"
     ]
    }
   ],
   "source": [
    "def mcmc_sim(nsamp, nburn, npart=10, T=2, a = 0.2, b = 0.4):\n",
    "    # Initialize the system\n",
    "    xs, _ = gen_pts(npart)\n",
    "\n",
    "    # Burn-in period: allow the system to reach equilibrium\n",
    "    for _ in range(nburn):\n",
    "        xs = mc_step(xs, p, a, b)\n",
    "\n",
    "    # Generate and save samples after the system has equilibrated\n",
    "    samples = []\n",
    "    for _ in range(nsamp):\n",
    "        xs = mc_step(xs, p, a, b)\n",
    "        samples.append(xs.copy())  # Save the sample\n",
    "\n",
    "    return samples\n",
    "\n",
    "# Example of running the simulation, assuming nsamp = 10**4 and nburn = 10**2 as per your instructions\n",
    "nsamp = 10**4\n",
    "nburn = 10**2\n",
    "\n",
    "samples = mcmc_sim(nsamp, nburn)\n",
    "\n",
    "# Now, we can estimate the number of particles in the right well (x > 0)\n",
    "pts = sum(1 for sample in samples for x in sample if x > 0)\n",
    "estimate = pts / nsamp\n",
    "print(f'Estimated number of particles in the right well: {estimate}')\n"
   ]
  },
  {
   "cell_type": "markdown",
   "id": "d4cbba4b",
   "metadata": {},
   "source": [
    "### Part D (5 points)\n",
    "Make a histogram of the particle positions using the same samples as in the previous question. Note that for this problem, we don't distinguish between particles $i$ and $j$, so you should \"flatten\" the samples into a one-dimensional array  before plotting."
   ]
  },
  {
   "cell_type": "code",
   "execution_count": 5,
   "id": "36a8382a",
   "metadata": {},
   "outputs": [
    {
     "data": {
      "image/png": "[encoded data removed]",
      "text/plain": [
       "<Figure size 640x480 with 1 Axes>"
      ]
     },
     "metadata": {},
     "output_type": "display_data"
    }
   ],
   "source": [
    "import matplotlib.pyplot as plt\n",
    "import numpy as np\n",
    "# Flatten the list of arrays into a one-dimensional array\n",
    "flat = np.concatenate(samples)\n",
    "\n",
    "# Create the histogram of the particle positions\n",
    "plt.hist(flat, bins=100, alpha=0.75, edgecolor='black')\n",
    "\n",
    "plt.title('Histogram of Particle Positions')\n",
    "plt.xlabel('Position')\n",
    "plt.ylabel('Frequency')\n",
    "\n",
    "# Display the histogram\n",
    "plt.show()"
   ]
  },
  {
   "cell_type": "markdown",
   "id": "f4d82540",
   "metadata": {},
   "source": [
    "### Part E (10 points)\n",
    "For this problem set `nsamp = 10**3`. Compare the estimate with `nburn = 0` and `nburn = 10**3`. Which one is closer to your estimate from the previous question and why?"
   ]
  },
  {
   "cell_type": "code",
   "execution_count": 6,
   "id": "23a25b14",
   "metadata": {},
   "outputs": [
    {
     "data": {
      "text/plain": [
       "(0.471, 0.61)"
      ]
     },
     "execution_count": 6,
     "metadata": {},
     "output_type": "execute_result"
    }
   ],
   "source": [
    "# Run the simulation with no burn-in steps\n",
    "nsamp = 10**3\n",
    "nburn = 0\n",
    "\n",
    "sam_no_burn = mcmc_sim(nsamp, nburn)\n",
    "pts = sum(1 for sample in sam_no_burn for x in sample if x > 0)\n",
    "no_burn = pts / (nsamp * 10)\n",
    "\n",
    "# Run the simulation with a large number of burn-in steps\n",
    "nburn_large = 10**3\n",
    "sam_large = mcmc_sim(nsamp, nburn_large)\n",
    "pts_large = sum(1 for sample in sam_large for x in sample if x > 0)\n",
    "large_burn = pts_large / (nsamp * 10)\n",
    "\n",
    "no_burn, large_burn"
   ]
  },
  {
   "cell_type": "markdown",
   "id": "749a1142",
   "metadata": {},
   "source": [
    "## Problem 1 (30 points) - Fast Exponential Transform\n",
    "\n",
    "In this problem, we will experiment with a common fast algorithm for applying exponential functions in 1D. Suppose we have sorted points $x_0,\\dots,x_{n-1} \\in \\mathbb{R}$ and \"weights\" $c_0,\\dots,c_{n-1}$ and we want to compute the sum\n",
    "$$f_i = \\sum_{j=0}^{n-1} \\exp(-|x_i-x_j|) c_j,$$\n",
    "for $i=0,1,2,\\dots,n-1.$ "
   ]
  },
  {
   "cell_type": "markdown",
   "id": "d1a1d147",
   "metadata": {},
   "source": [
    "### Part A (5 points)\n",
    "\n",
    "The most straightforward way to find $f_0,\\dots,f_{n-1}$ is via linear algebra. Make a big matrix $E$ with $E_{i,j}= \\exp(-|x_i-x_j|).$ If we set $c$ to be the vector of weights, and $f$ to be the vector of values we want, then we get\n",
    "$$f = Ec.$$\n",
    "\n",
    "Implement a routine `exp_transform(x,c)` which takes in a vector of $x$ \"positions\" ($x_0<x_1<\\dots<x_{n-1}$) and a vector of weights $c$ and outputs the corresponding $f$ values as a vector using this approach.\n",
    "\n",
    "Test its performance in terms of time by taking 200,400,800,1600,3200,6400,10000 random normal numbers for the $x$ positions and setting all of the $c$'s to be one (only time the `exp_transform(x,c)` routine, not the time to generate $x$ or sort it). Plot your results. If the latter trials are taking too long then feel free to exclude them from your results (just make a note)."
   ]
  },
  {
   "cell_type": "code",
   "execution_count": 7,
   "id": "6f9d6e98",
   "metadata": {},
   "outputs": [
    {
     "name": "stdout",
     "output_type": "stream",
     "text": [
      "Size: 200, Time taken: 0.06305813789367676 seconds\n",
      "Size: 400, Time taken: 0.38582777976989746 seconds\n",
      "Size: 800, Time taken: 0.9740447998046875 seconds\n",
      "Size: 1600, Time taken: 3.6068637371063232 seconds\n",
      "Size: 3200, Time taken: 14.475741147994995 seconds\n",
      "Size: 6400, Time taken: 57.985138177871704 seconds\n",
      "Size: 10000, Time taken: 140.55831384658813 seconds\n"
     ]
    }
   ],
   "source": [
    "import numpy as np\n",
    "import time\n",
    "def exp_transform(x, c):\n",
    "    n = len(x)\n",
    "    E = np.zeros((n, n))\n",
    "    for i in range(n):\n",
    "        for j in range(n):\n",
    "            E[i, j] = np.exp(-np.abs(x[i] - x[j]))\n",
    "    f = E.dot(c)\n",
    "    return f\n",
    "\n",
    "# Testing the performance\n",
    "# Since we don't actually have the random normal numbers, we'll simulate them for the test\n",
    "for size in [200, 400, 800, 1600, 3200, 6400, 10000]:\n",
    "    x = np.sort(np.random.randn(size))\n",
    "    c = np.random.randn(size)\n",
    "    \n",
    "    # Measure the time taken to compute the transformation\n",
    "    start_time = time.time()\n",
    "    f_values = exp_transform(x, c)\n",
    "    end_time = time.time()\n",
    "    \n",
    "    print(f\"Size: {size}, Time taken: {end_time - start_time} seconds\")\n",
    "    "
   ]
  },
  {
   "cell_type": "markdown",
   "id": "818625b3",
   "metadata": {},
   "source": [
    "Unfortunately, for large $n,$ (think 10's of thousands to millions) creating and storing $E$ can get expensive, and applying the matrix will take $O(n^2)$ operations. Let's try to find a better way. For a given point $x_i$ let $L_i$ be the collection of all the points to the left of $x_i$ and $R_i$ be the collection of all points to the right of $x_i.$ Then\n",
    "\n",
    "$$ f_i = c_i + \\sum_{j \\in L_i} \\exp(x_j-x_i) c_j +\\sum_{j \\in R_i} \\exp(x_i-x_j) c_j.$$\n",
    "\n",
    "Set $w_i = \\sum_{j \\in L_i} \\exp(x_j-x_i) c_j,$ and $u_i = \\sum_{j \\in R_i} \\exp(x_i-x_j) c_j.$ Then, after some arithmetic, we see that\n",
    "$$w_{i+1} = \\exp(x_i-x_{i+1}) (w_i + c_i)$$\n",
    "and\n",
    "$$u_{i-1} = \\exp(x_{i-1}-x_{i}) (u_i + c_i)$$"
   ]
  },
  {
   "cell_type": "markdown",
   "id": "686c38f5",
   "metadata": {},
   "source": [
    "### Part B (10 points)\n",
    "\n",
    "Write a function, `sweep_right(x,c)` which computes all the $w$'s using the above recurrence formula. Your routine should start with $w_0 = 0,$ and compute $w_1 = \\exp(x_0-x_1)*c_0,$ then $w_2 = \\exp(x_1-x_2)*(w_1+c_1),$ and so on.\n",
    "\n",
    "Write a function, `sweep_left(x,c)` which computes all the $u$'s using the above recurrence formula. Your routine should start with $u_{n-1} = 0,$ and compute $u_{n-2} = \\exp(x_{n-2}-x_{n-1})*c_{n-1},$ then $u_{n-3} = \\exp(x_{n-3}-x_{n-2})*(u_{n-2}+c_{n-2}),$ and so on. When implementing this method, it might be helpful to use `numpy.flip` to reverse the $x$ and $c$ vectors to make your code look similar to `sweep_right` - just make sure to check the signs in the exponents and to make sure that the output is flipped properly."
   ]
  },
  {
   "cell_type": "code",
   "execution_count": 8,
   "id": "b1e55da3",
   "metadata": {},
   "outputs": [],
   "source": [
    "import numpy as np\n",
    "\n",
    "def sweep_right(x, c):\n",
    "    n = len(x)\n",
    "    w = np.zeros(n)\n",
    "    w[0] = 0\n",
    "    w[1] = np.exp(x[0] - x[1]) * c[0]\n",
    "    for i in range(2, n):\n",
    "        w[i] = np.exp(x[i-1] - x[i]) * (w[i-1] + c[i-1])\n",
    "    return w\n",
    "\n",
    "def sweep_left(x, c):\n",
    "    n = len(x)\n",
    "    u = np.zeros(n)\n",
    "    u[-1] = 0\n",
    "    for i in range(n - 2, -1, -1):\n",
    "        u[i] = np.exp(x[i] - x[i+1]) * c[i+1]\n",
    "    return u"
   ]
  },
  {
   "cell_type": "markdown",
   "id": "d37e3df2",
   "metadata": {},
   "source": [
    "### Part C (10 points)\n",
    "\n",
    "Write a function `fast_exp_transform(x,c)` which takes in a vector of $x$ \"positions\" ($x_0<x_1<\\dots<x_{n-1}$) and a vector of weights $c$ and outputs the corresponding $f$ values as a vector using your `sweep_left` and `sweep_right` functions and the formula above.\n",
    "\n",
    "Test its accuracy against `exp_transform` for a small number of points (100 let's say).\n",
    "\n",
    "Test its performance in terms of time by taking 200,400,800,1600,3200,6400,10000 random normal numbers for the $x$ positions and setting all of the $c$'s to be one (only time the `fast_exp_transform(x,c)` routine, not the time to generate $x$ or sort it). Plot your results. *Make sure the points are sorted!* \n",
    "\n",
    "How many points can you do? \n",
    "\n",
    "What is the crossover point between this approach and `exp_transform` if any? i.e. for what value of $n$ will the two take about the same time?\n",
    "\n",
    "What is the computational complexity (in $n$) of your `fast_exp_transform` code?"
   ]
  },
  {
   "cell_type": "code",
   "execution_count": 9,
   "id": "8e1dc1c8",
   "metadata": {},
   "outputs": [
    {
     "name": "stdout",
     "output_type": "stream",
     "text": [
      "Size 200:\n",
      "[-1.1823425290879, -0.6632681364198508, -2.716474515412765, 17.604144995465095, 2.065844032646853, 1.3371142735391002, 1.074207054110549, 1.0287899797392774, 0.7648809374750694, 0.7069009666708331, 1.4000778215616043, 1.2578235814799579, 1.0694776640342816, 1.8489039428033058, 1.2828919491489577, 0.7577214231374659, 0.6743424027195325, 1.003892026581454, 1.5097602841962374, -1.9319302148142536, -1.050204686401156, -1.4882829334424275, -0.6329780414814979, -0.5386359992479355, -0.5715536996291444, -0.6917726292256081, -0.6248124382326025, -0.7909820736776181, -1.187003663288051, -0.7731257505148481, -1.1892841932483882, -1.683831010863243, -1.0756927325602392, -0.982055839360326, -0.7465055031048644, -0.7298184770946411, -0.6235563293086468, -0.6535682344344974, -0.7562045990968956, -0.8156385780304558, -0.9253054276733035, -1.249867321102573, -0.9634039756662545, -1.4514421433860685, -1.535840564185709, -1.873506465839378, -2.918751017064153, -2.7861429649648786, -2.854204118295522, -2.562066639844045, -1.9165452000430168, -1.4501039914156277, -1.5145379403392623, -1.4242012164648614, -2.2759193347719786, -3.7584598131234928, -10.821382663726343, -48.834753707921905, -42.286638397508845, 130.64705425211824, 35.33036853942314, 15.191137733434081, 35.847436137889474, 11.152641517341376, -25.266287558924795, -113.27710051848744, -18.115148726926268, -39.61555509147213, 101.80890445079568, -21.42927459479488, -7.262260796652802, 122.0362130781162, 7.11607857216183, 5.86089572886571, 4.377671463338617, 3.1442364408612025, 2.5078185572727247, 3.8036853511433555, 6.383286580053648, 5.289427435144117, 4.226459244635072, 5.406037028024668, 2.8594077216012033, 3.0602275090291897, 3.427823878883293, 3.1465208164353236, 3.0936125115467163, 3.9564694045277204, 9.658724847665784, 16.814988166598503, 15.44315227267684, 10.241383979661006, 15.482552921172072, 14.669253765705529, 17.71299614779374, 5.899859208979349, 13.82642239587616, 29.840234845766435, 5.115120310963512, 3.047514402670293, 2.2594130164389172, 2.2185960489526217, 2.518671847990545, 2.1559093420101556, 2.42670445160489, 2.2896706352401606, 2.1317984445148883, 1.6679168276570284, 1.8826628176259523, 2.0744562059745486, 1.7313201469196293, 1.5929819980699202, 1.8871026264185777, 1.5034262769951834, 1.4248986356939526, 1.7046510936963375, 1.8090191723197826, 1.7046642258357125, 1.4601064472664396, 1.856351966228376, 2.2205554835199632, 2.49423071636118, 2.511040982425365, 2.2609414639891527, 2.2595679129430266, 1.9293219312845182, 2.1436662102415465, 2.1259180925078485, 1.9676224734965218, 1.8100546179586479, 1.4800973619007174, 1.5230728691836595, 1.5727025695158843, 1.5109572648657523, 1.444734577774092, 1.5280124499507266, 1.4168930291821504, 1.3244329482698383, 1.296491858700179, 1.4348906691702048, 1.4847703296495414, 1.79481698340385, 1.559026595995668, 1.7450093370440916, 1.8268391090880622, 1.9083286950995686, 1.5289501167282327, 1.3636608506493257, 1.272074855910414, 1.221961829260709, 1.370407202382659, 1.270119032693438, 1.3074761149079934, 1.5058391266925597, 2.7882735910725565, 3.6115685925357517, 3.365193387951563, 2.9725591014604418, 2.4553280581171717, 2.325874367704335, 2.527004514896789, 2.213177327291735, 2.131144684122777, 1.826822485367693, 1.7389485765281485, 2.0281154877025247, 2.047660206452111, 2.0292933535340696, 1.850598940556261, 1.7338955644541103, 1.7125037732886308, 2.0337323280231496, 2.62017040281347, 2.2817374073890844, 1.8377500070938635, 1.5328281729777495, 1.3988356335926595, 1.453017562296048, 1.427358530599785, 1.3540109708901582, 1.3014709529889883, 1.2105427776839786, 1.3045075350336095, 1.179154049549499, 1.2291548849201164, 1.1188680373388078, 1.1236565889714165, 1.2310703389356228, 1.2224382804233185, 1.2106957966781586, 1.2962443550999816, 1.2091271524678187, 1.2185787364378862, 1.1707397494121978, 1.0481341553603403, 1.071981405956999, 0.9916649563922434, 0.9612731431671601, 1.0000000000000004, 1.0000000000000007]\n",
      "\n"
     ]
    },
    {
     "data": {
      "image/png": "[encoded data removed]",
      "text/plain": [
       "<Figure size 640x480 with 1 Axes>"
      ]
     },
     "metadata": {},
     "output_type": "display_data"
    }
   ],
   "source": [
    "import numpy as np\n",
    "import time\n",
    "\n",
    "def fast_exp_transform(x, c):\n",
    "    u_left = sweep_left(x, c)\n",
    "    u_right = sweep_right(x, c)\n",
    "    return u_left + u_right + c\n",
    "\n",
    "# Now we'll test the accuracy and performance of both exp_transform and fast_exp_transform\n",
    "sizes = [200, 400, 800, 1600, 3200, 6400, 10000]\n",
    "exp_times = []\n",
    "fast_times = []\n",
    "percents = []\n",
    "for size in sizes:\n",
    "    x = np.sort(np.random.randn(size))\n",
    "    c = np.random.randn(size)\n",
    "    # Testing exp_transform\n",
    "    start_time = time.time()\n",
    "    f_exp = exp_transform(x, c)\n",
    "    exp_times.append(time.time() - start_time)\n",
    "\n",
    "    # Testing fast_exp_transform\n",
    "    start_time = time.time()\n",
    "    f_fast = fast_exp_transform(x, c)\n",
    "    fast_times.append(time.time() - start_time)\n",
    "\n",
    "    if size < 400:\n",
    "        percent = [f_exp[i] / float(f_fast[i]) for i in range(len(f_exp))]\n",
    "        percents.append((size, percent))\n",
    "\n",
    "# print the percentage of smaller size to see the accuracy\n",
    "for i in percents:\n",
    "    print(f\"Size {i[0]}:\")\n",
    "    print(i[1])\n",
    "    print()\n",
    "\n",
    "# Plot the results\n",
    "plt.plot(sizes, exp_times, label='exp_transform')\n",
    "plt.plot(sizes, fast_times, label='fast_exp_transform')\n",
    "plt.xlabel('Size of input')\n",
    "plt.ylabel('Time (seconds)')\n",
    "plt.legend()\n",
    "plt.show()\n",
    "\n"
   ]
  },
  {
   "cell_type": "markdown",
   "id": "3cbb46ad",
   "metadata": {},
   "source": [
    "### Part D (5 points)\n",
    "\n",
    "Try to optimize both codes as much as possible. For example, you could try to vectorize the construction of the exponentials in the first approach. You could try to use `numba` to try to accelerate the second. You can precompute the exponentials of the distances between consecutive $x$ values and pass that as an optional argument to your sweeping routines. How much can you improve your code? This is an open-ended question and there is no \"right\" answer. "
   ]
  },
  {
   "cell_type": "code",
   "execution_count": 10,
   "id": "83195119",
   "metadata": {},
   "outputs": [],
   "source": [
    "#!pip install numba\n",
    "\n",
    "from numba import njit\n",
    "\n",
    "@njit\n",
    "def sweep_right(x, c):\n",
    "    n = len(x)\n",
    "    w = np.zeros(n)\n",
    "    w[0] = 0\n",
    "    w[1] = np.exp(x[0] - x[1]) * c[0]\n",
    "    for i in range(2, n):\n",
    "        w[i] = np.exp(x[i-1] - x[i]) * (w[i-1] + c[i-1])\n",
    "    return w\n",
    "\n",
    "@njit\n",
    "def sweep_left(x, c):\n",
    "    n = len(x)\n",
    "    u = np.zeros(n)\n",
    "    u[-1] = 0\n",
    "    for i in range(n - 2, -1, -1):\n",
    "        u[i] = np.exp(x[i] - x[i+1]) * c[i+1]\n",
    "    return u\n",
    "\n",
    "# You would also JIT compile the fast_exp_transform function\n",
    "@njit\n",
    "def fast_exp_transform(x, c):\n",
    "    u_left = sweep_left(x, c)\n",
    "    u_right = sweep_right(x, c)\n",
    "    return u_left + u_right + c\n",
    "\n",
    "\n",
    "\n",
    "def exp_transform_vectorized(x, c):\n",
    "    x_diff = np.abs(x[:, None] - x)  # Compute the differences in a vectorized manner\n",
    "    E = np.exp(-x_diff)             # Compute the exponential matrix\n",
    "    f = E @ c                       # Matrix-vector multiplication\n",
    "    return f\n",
    "\n",
    "# You can use Numba here as well for JIT compilation\n",
    "@njit\n",
    "def exp_transform_vectorized(x, c):\n",
    "    x_diff = np.abs(x[:, None] - x)\n",
    "    E = np.exp(-x_diff)\n",
    "    f = E @ c\n",
    "    return f\n",
    "\n"
   ]
  },
  {
   "cell_type": "code",
   "execution_count": null,
   "id": "4effd566",
   "metadata": {},
   "outputs": [],
   "source": []
  }
 ],
 "metadata": {
  "kernelspec": {
   "display_name": "Python (pycourse)",
   "language": "python",
   "name": "pycourse"
  },
  "language_info": {
   "codemirror_mode": {
    "name": "ipython",
    "version": 3
   },
   "file_extension": ".py",
   "mimetype": "text/x-python",
   "name": "python",
   "nbconvert_exporter": "python",
   "pygments_lexer": "ipython3",
   "version": "3.8.18"
  }
 },
 "nbformat": 4,
 "nbformat_minor": 5
}
